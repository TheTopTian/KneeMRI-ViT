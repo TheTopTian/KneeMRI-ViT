{
 "cells": [
  {
   "cell_type": "code",
   "execution_count": 2,
   "metadata": {},
   "outputs": [],
   "source": [
    "import pandas as pd\n",
    "import numpy as np"
   ]
  },
  {
   "cell_type": "code",
   "execution_count": 13,
   "metadata": {},
   "outputs": [
    {
     "name": "stdout",
     "output_type": "stream",
     "text": [
      "281\n",
      "0.08023986293546545\n"
     ]
    }
   ],
   "source": [
    "label_dir = \"./new_data/new_acl_meniscus(May).csv\"\n",
    "label = pd.read_csv(label_dir)\n",
    "names = label[\"StudyUID\"].tolist()\n",
    "\n",
    "ACL = label[\"Outer_Meniscus\"].tolist()\n",
    "ACL_num = 0\n",
    "for x in ACL:\n",
    "    if x == 1:\n",
    "        ACL_num +=1\n",
    "print(ACL_num)\n",
    "print(ACL_num/len(names))"
   ]
  },
  {
   "cell_type": "code",
   "execution_count": 9,
   "metadata": {},
   "outputs": [
    {
     "data": {
      "text/plain": [
       "0"
      ]
     },
     "execution_count": 9,
     "metadata": {},
     "output_type": "execute_result"
    }
   ],
   "source": [
    "import os\n",
    "data_dir = \"previous_dataset/Preprocessed_dataset_2\"\n",
    "plane = \"sagittal\"\n",
    "num = 0\n",
    "for name in names:\n",
    "    case_path = f'{data_dir}/{name}/{plane.upper()}_PROTON.nii'\n",
    "    if not os.path.exists(case_path):\n",
    "        num +=1\n",
    "num"
   ]
  }
 ],
 "metadata": {
  "kernelspec": {
   "display_name": "base",
   "language": "python",
   "name": "python3"
  },
  "language_info": {
   "codemirror_mode": {
    "name": "ipython",
    "version": 3
   },
   "file_extension": ".py",
   "mimetype": "text/x-python",
   "name": "python",
   "nbconvert_exporter": "python",
   "pygments_lexer": "ipython3",
   "version": "3.9.16"
  },
  "orig_nbformat": 4
 },
 "nbformat": 4,
 "nbformat_minor": 2
}
