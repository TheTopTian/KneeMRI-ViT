{
 "cells": [
  {
   "attachments": {},
   "cell_type": "markdown",
   "metadata": {},
   "source": [
    "# Read directly from the JSON label"
   ]
  },
  {
   "cell_type": "code",
   "execution_count": 1,
   "metadata": {},
   "outputs": [
    {
     "name": "stdout",
     "output_type": "stream",
     "text": [
      "We have 3794 cases in the dataset\n",
      "There are 4510 cases in JSON file\n"
     ]
    }
   ],
   "source": [
    "import json\n",
    "from glob import glob\n",
    "import pandas as pd\n",
    "import os\n",
    "\n",
    "dataset_dir = \"../../previous_dataset/PraxisData\"\n",
    "case_paths = sorted(glob(f\"{dataset_dir}/**\"))\n",
    "case_names = []\n",
    "for case_path in case_paths:\n",
    "    case_name = os.path.basename(case_path)\n",
    "    case_names.append(case_name)\n",
    "print(f\"We have {len(case_names)} cases in the dataset\") \n",
    "\n",
    "json_dir = \"./pretty.json\"\n",
    "with open(json_dir,'r') as data_file:\n",
    "    datas = json.load(data_file)\n",
    "\n",
    "print(f\"There are {len(datas)} cases in JSON file\")"
   ]
  },
  {
   "cell_type": "code",
   "execution_count": 3,
   "metadata": {},
   "outputs": [
    {
     "data": {
      "text/plain": [
       "dict_keys(['studyInstanceUID', 'discrepancy', 'projectName', 'finalAnnotation', 'annotationsOriginal'])"
      ]
     },
     "execution_count": 3,
     "metadata": {},
     "output_type": "execute_result"
    }
   ],
   "source": [
    "data = datas[0]\n",
    "data.keys()"
   ]
  },
  {
   "cell_type": "code",
   "execution_count": 2,
   "metadata": {},
   "outputs": [],
   "source": [
    "def detect(sub_dictionary,pathology):\n",
    "    if pathology == 6: # ACL\n",
    "        disease_names = ['ACL_Vord. Kreuzband-Faserunterbrechung','ACL_Vord. Kreuzband-Konturunterbrechung','ACL_Vord. Kreuzband-Resorption']\n",
    "        for key in list(sub_dictionary.keys()):\n",
    "            if not key in disease_names:\n",
    "                del sub_dictionary[key]\n",
    "    \n",
    "    elif pathology == 7: # PCL\n",
    "        disease_names = ['PCL_Hint. Kreuzband-Faserunterbrechung','PCL_Hint. Kreuzband-Konturunterbrechung','PCL_Hint. Kreuzband-Resorption']\n",
    "        for key in list(sub_dictionary.keys()):\n",
    "            if not key in disease_names:\n",
    "                del sub_dictionary[key]\n",
    "    \n",
    "    elif pathology == 15 or pathology == 16:\n",
    "        for key in list(sub_dictionary.keys()):\n",
    "            if 'Degenerativ' in key:\n",
    "                del sub_dictionary[key]\n",
    "\n",
    "    return sub_dictionary\n",
    "                "
   ]
  },
  {
   "cell_type": "code",
   "execution_count": 3,
   "metadata": {},
   "outputs": [],
   "source": [
    "def whatever(whole_case,pathology):\n",
    "    sub_dictionary = {}\n",
    "    pathology_dictionary = {\n",
    "        '6': 'ACL',\n",
    "        '7': 'PCL',\n",
    "        '15': 'Inner_Meniscus',\n",
    "        '16': 'Outer_Meniscus'\n",
    "    }\n",
    "    pathology_name = pathology_dictionary[str(pathology)]\n",
    "\n",
    "    for disease in whole_case['annotationsOriginal']:\n",
    "        if disease['isAnnotationCorrect'] == 'false':\n",
    "            continue\n",
    "        element = disease['annotation']['elements'][pathology]\n",
    "        if 'student3d' in element:\n",
    "            for case in disease['student3d']:\n",
    "                if case != []:\n",
    "                    for studentcase in case:\n",
    "                        coordinate_dic = studentcase['coordinate']\n",
    "                        x = float(coordinate_dic[\"x\"])\n",
    "                        y = float(coordinate_dic[\"y\"])\n",
    "                        z = float(coordinate_dic[\"z\"])\n",
    "                        coordinate = (x,y,z)\n",
    "                        disease_name = studentcase[\"name\"].title()\n",
    "                        disease_name = f\"{pathology_name}_{disease_name}\"\n",
    "                        sub_dictionary[disease_name] = coordinate\n",
    "        if element['3d'] != []:\n",
    "            for location in element['3d']:\n",
    "                coordinate_dic = location[\"coordinate\"]\n",
    "                x = float(coordinate_dic[\"x\"])\n",
    "                y = float(coordinate_dic[\"y\"])\n",
    "                z = float(coordinate_dic[\"z\"])\n",
    "                coordinate = (x,y,z)\n",
    "                disease_name = location[\"name\"].title()\n",
    "                disease_name = f\"{pathology_name}_{disease_name}\"\n",
    "                sub_dictionary[disease_name] = coordinate\n",
    "    \n",
    "    element = whole_case['finalAnnotation']['elements'][pathology]\n",
    "    if 'student3d' in element:\n",
    "        for case in element['student3d']:\n",
    "            if case != []:\n",
    "                for studentcase in case:\n",
    "                    coordinate_dic = studentcase['coordinate']\n",
    "                    x = float(coordinate_dic[\"x\"])\n",
    "                    y = float(coordinate_dic[\"y\"])\n",
    "                    z = float(coordinate_dic[\"z\"])\n",
    "                    coordinate = (x,y,z)\n",
    "                    disease_name = studentcase[\"name\"].title()\n",
    "                    disease_name = f\"{pathology_name}_{disease_name}\"\n",
    "                    sub_dictionary[disease_name] = coordinate\n",
    "    if element['3d'] != []:\n",
    "        for location in element['3d']:\n",
    "            coordinate_dic = location['coordinate']\n",
    "            x = float(coordinate_dic[\"x\"])\n",
    "            y = float(coordinate_dic[\"y\"])\n",
    "            z = float(coordinate_dic[\"z\"])\n",
    "            coordinate = (x,y,z)\n",
    "            disease_name = location[\"name\"].title()\n",
    "            disease_name = f\"{pathology_name}_{disease_name}\"\n",
    "            sub_dictionary[disease_name] = coordinate\n",
    "    \n",
    "    sub_dictionary = detect(sub_dictionary,pathology)\n",
    "\n",
    "    return sub_dictionary"
   ]
  },
  {
   "cell_type": "code",
   "execution_count": 4,
   "metadata": {},
   "outputs": [],
   "source": [
    "ACL = 6               # ACL is Nr. 6 \n",
    "PCL = 7               # PCL is Nr. 7\n",
    "Inner_Meniscus = 15   # Inner_Meniscus is Nr. 15\n",
    "Outer_Meniscus = 16   # Outer_Meniscus is Nr. 16\n",
    "\n",
    "bad_project = ['test_mpi_2','test_mpi3','Schulter ohne Text','Schulter mit Text']\n",
    "\n",
    "whole_data = []\n",
    "for whole_case in datas:\n",
    "    sub_dictionary = {}\n",
    "    name = whole_case['studyInstanceUID']\n",
    "    projectName = whole_case['projectName']\n",
    "\n",
    "    if not name in case_names:\n",
    "        continue\n",
    "\n",
    "    if projectName in bad_project:\n",
    "        continue\n",
    "\n",
    "    sub_dictionary['StudyUID'] = name\n",
    "    sub_dictionary['projectName'] = projectName\n",
    "    \n",
    "    ACL_sub = whatever(whole_case,ACL)\n",
    "    sub_dictionary.update(ACL_sub)\n",
    "    PCL_sub = whatever(whole_case,PCL)\n",
    "    sub_dictionary.update(PCL_sub)\n",
    "    Inner_Meniscus_sub = whatever(whole_case,Inner_Meniscus)\n",
    "    sub_dictionary.update(Inner_Meniscus_sub)\n",
    "    Outer_Meniscus_sub = whatever(whole_case,Outer_Meniscus)\n",
    "    sub_dictionary.update(Outer_Meniscus_sub)\n",
    "\n",
    "    whole_data.append(sub_dictionary)\n",
    "\n",
    "# Convert the list of dictionaries to a Pandas DataFrame\n",
    "df = pd.DataFrame(whole_data)\n",
    "\n",
    "# If index is not specified in the DataFrame, set it to None\n",
    "if df.index.name is None:\n",
    "    df.index.name = ''\n",
    "\n",
    "# Write the DataFrame to a CSV file\n",
    "df.to_csv('ACL_Meniscus_ProjectName.csv', na_rep='', index=False)"
   ]
  },
  {
   "attachments": {},
   "cell_type": "markdown",
   "metadata": {},
   "source": [
    "*Sorted the sequence*"
   ]
  },
  {
   "cell_type": "code",
   "execution_count": 5,
   "metadata": {},
   "outputs": [
    {
     "name": "stdout",
     "output_type": "stream",
     "text": [
      "16\n"
     ]
    }
   ],
   "source": [
    "import pandas as pd\n",
    "unsorted_csv = pd.read_csv(\"ACL_Meniscus_ProjectName.csv\")\n",
    "new_order = sorted(unsorted_csv.columns.tolist()[2:])\n",
    "print(len(new_order))\n",
    "# for disease in new_order:\n",
    "#     print(f\"{disease}\")\n",
    "new_order.insert(0,'StudyUID')\n",
    "new_order.insert(1,'projectName')\n",
    "\n",
    "sorted_csv = unsorted_csv.reindex(columns=new_order)\n",
    "sorted_csv.to_csv('ACL_Meniscus_ProjectName.csv', index=False)"
   ]
  },
  {
   "attachments": {},
   "cell_type": "markdown",
   "metadata": {},
   "source": [
    "*Delete the labels based on the sequence*"
   ]
  },
  {
   "cell_type": "code",
   "execution_count": 6,
   "metadata": {},
   "outputs": [],
   "source": [
    "# Return the small values so we can delete that\n",
    "\n",
    "good_project = ['Knie_ohne_Textmarker_100','knie mit textmarker','Knie_Markov_Textmarker_JMH']\n",
    "def check_projectNames(projectNames):\n",
    "    name_1 = projectNames[0]\n",
    "    name_2 = projectNames[1]\n",
    "    for i,project in enumerate(good_project):\n",
    "        if name_1 == project:\n",
    "            name_1_num = i\n",
    "        elif name_2 == project:\n",
    "            name_2_num = i\n",
    "    if name_1_num > name_2_num:\n",
    "        return name_2\n",
    "    elif name_1_num < name_2_num:\n",
    "        return name_1\n",
    "    else:\n",
    "        print(\"Error!\")"
   ]
  },
  {
   "cell_type": "code",
   "execution_count": 7,
   "metadata": {},
   "outputs": [],
   "source": [
    "import pandas as pd\n",
    "import numpy as np\n",
    "\n",
    "location_csv = pd.read_csv('whatever.csv')\n",
    "names = location_csv['StudyUID'].tolist()\n",
    "\n",
    "# Find out how many names appear 2 times\n",
    "problem_names = []\n",
    "for name in names:\n",
    "    count = names.count(name)\n",
    "    if count == 2:\n",
    "        problem_names.append(name)\n",
    "problem_names = np.unique(np.array(problem_names)).tolist()\n",
    "\n",
    "# Delete them based on the sequence\n",
    "for name in problem_names:\n",
    "    projectNames = location_csv.loc[location_csv['StudyUID'] == name, 'projectName'].tolist()\n",
    "    wrong_projectName = check_projectNames(projectNames)\n",
    "    row_to_delete = location_csv[(location_csv['StudyUID'] == name) & (df['projectName'] == wrong_projectName)].index\n",
    "    location_csv.drop(row_to_delete, inplace=True)\n",
    "\n",
    "location_csv.to_csv('whatever.csv',index=False)"
   ]
  },
  {
   "attachments": {},
   "cell_type": "markdown",
   "metadata": {},
   "source": [
    "*Make a new label only with **ACL**, **PCL**, **Inner_Meniscus** and **Outer_Meniscus***"
   ]
  },
  {
   "cell_type": "code",
   "execution_count": 39,
   "metadata": {},
   "outputs": [],
   "source": [
    "import pandas as pd\n",
    "\n",
    "diseases_group = ['ACL','PCL','Inner_Meniscus','Outer_Meniscus']\n",
    "\n",
    "sorted_csv = pd.read_csv(\"./whatever.csv\")\n",
    "disease_names = sorted_csv.columns.tolist()[2:]\n",
    "case_names = sorted_csv['StudyUID'].tolist()\n",
    "projectNames = sorted_csv['projectName'].tolist()\n",
    "\n",
    "def grouped_list(group_name):\n",
    "    list = []\n",
    "    for name in case_names:\n",
    "        num = 0\n",
    "        for disease_name in disease_names:\n",
    "            if group_name in disease_name:\n",
    "                if not sorted_csv.loc[sorted_csv['StudyUID'] == name, disease_name].isna().all():\n",
    "                    num += 1\n",
    "        if num != 0:\n",
    "            num = 1\n",
    "        list.append(num)\n",
    "    return list\n",
    "\n",
    "dictionary = {}\n",
    "dictionary['StudyUID'] = case_names\n",
    "dictionary['projectName'] = projectNames\n",
    "for group_name in diseases_group:\n",
    "    dictionary[group_name] = grouped_list(group_name)\n",
    "\n",
    "df = pd.DataFrame(dictionary)\n",
    "data_dir = f\"./new_grouped_whatever.csv\"\n",
    "df.to_csv(data_dir,index=False)"
   ]
  },
  {
   "cell_type": "code",
   "execution_count": 7,
   "metadata": {},
   "outputs": [
    {
     "name": "stdout",
     "output_type": "stream",
     "text": [
      "ACL_Vord. Kreuzband-Faserunterbrechung\n",
      "ACL_Vord. Kreuzband-Konturunterbrechung\n",
      "ACL_Vord. Kreuzband-Resorption\n",
      "Inner_Meniscus_Horizontal R.\n",
      "Inner_Meniscus_Komplex/Lappen/Longitudinal R.\n",
      "Inner_Meniscus_Korbhenkelriss\n",
      "Inner_Meniscus_Radiaer R.\n",
      "Inner_Meniscus_Wurzel R.\n",
      "Outer_Meniscus_Horizontal R.\n",
      "Outer_Meniscus_Komplex/Lappen/Longitudinal R.\n",
      "Outer_Meniscus_Korbhenkelriss\n",
      "Outer_Meniscus_Radiaer R.\n",
      "Outer_Meniscus_Wurzel R.\n",
      "PCL_Hint. Kreuzband-Faserunterbrechung\n",
      "PCL_Hint. Kreuzband-Konturunterbrechung\n",
      "PCL_Hint. Kreuzband-Resorption\n"
     ]
    }
   ],
   "source": [
    "import pandas as pd\n",
    "\n",
    "csv = pd.read_csv(\"./ACL_Meniscus_ProjectName.csv\")\n",
    "names = csv.columns.tolist()[2:]\n",
    "for name in names:\n",
    "    print(name)"
   ]
  },
  {
   "attachments": {},
   "cell_type": "markdown",
   "metadata": {},
   "source": [
    "# Compare with the old label"
   ]
  },
  {
   "cell_type": "code",
   "execution_count": 7,
   "metadata": {},
   "outputs": [
    {
     "name": "stdout",
     "output_type": "stream",
     "text": [
      "3794\n",
      "3511\n",
      "There are 87 cases wrong in ACL\n",
      "\n",
      "There are 37 cases, old=0, new=1,\n",
      "There are 50 cases, old=1, new=0\n",
      "There are 112 cases wrong in Meniscus\n"
     ]
    }
   ],
   "source": [
    "# Check how many wrong cases in ACL\n",
    "import pandas as pd\n",
    "\n",
    "label_csv_old = pd.read_csv(\"../combination.csv\")\n",
    "label_csv_new = pd.read_csv(\"./new_grouped_whatever.csv\")\n",
    "old_names = label_csv_old[\"StudyUID\"].tolist()\n",
    "new_names = label_csv_new[\"StudyUID\"].tolist()\n",
    "print(len(old_names))\n",
    "print(len(new_names))\n",
    "\n",
    "wrong_cases_ACL = []\n",
    "zero_one = 0\n",
    "one_zero = 0\n",
    "one_zero_cases = []\n",
    "for old_name in old_names:\n",
    "    label_old = label_csv_old.loc[label_csv_old['StudyUID'] == old_name, \"ACL\"].tolist()\n",
    "    if old_name in new_names:\n",
    "        label_new = label_csv_new.loc[label_csv_new['StudyUID'] == old_name, \"ACL\"].tolist()\n",
    "        if label_old != label_new:\n",
    "            wrong_cases_ACL.append(old_name)\n",
    "            \n",
    "            if label_old == [0] and label_new == [1]:\n",
    "                zero_one += 1\n",
    "            else:\n",
    "                one_zero += 1\n",
    "                one_zero_cases.append(old_name)\n",
    "\n",
    "print(f\"There are {len(wrong_cases_ACL)} cases wrong in ACL\")\n",
    "print(f\"\\nThere are {zero_one} cases, old=0, new=1,\"\n",
    "      f\"\\nThere are {one_zero} cases, old=1, new=0\")\n",
    "\n",
    "wrong_cases_Meniscus = []\n",
    "meniscus_one_zero_cases = []\n",
    "for old_name in old_names:\n",
    "    label_old = label_csv_old.loc[label_csv_old['StudyUID'] == old_name, \"Meniscus\"].tolist()\n",
    "    if old_name in new_names:\n",
    "        label_new_Inner = label_csv_new.loc[label_csv_new['StudyUID'] == old_name, \"Inner_Meniscus\"].tolist()\n",
    "        label_new_Outer = label_csv_new.loc[label_csv_new['StudyUID'] == old_name, \"Outer_Meniscus\"].tolist()\n",
    "        if label_new_Inner == [1] or label_new_Outer == [1]:\n",
    "            label_new = [1]\n",
    "        else:\n",
    "            label_new = [0]\n",
    "        if label_old != label_new:\n",
    "            wrong_cases_Meniscus.append(old_name)\n",
    "\n",
    "print(f\"There are {len(wrong_cases_Meniscus)} cases wrong in Meniscus\")"
   ]
  },
  {
   "attachments": {},
   "cell_type": "markdown",
   "metadata": {},
   "source": [
    "# Make a label agreed by both of them"
   ]
  },
  {
   "cell_type": "code",
   "execution_count": 3,
   "metadata": {},
   "outputs": [
    {
     "name": "stdout",
     "output_type": "stream",
     "text": [
      "We still have 3317 cases can be trained\n"
     ]
    }
   ],
   "source": [
    "import pandas as pd\n",
    "\n",
    "label_csv_old = pd.read_csv(\"../combination.csv\")\n",
    "label_csv_new = pd.read_csv(\"./new_grouped_whatever.csv\")\n",
    "old_names = label_csv_old[\"StudyUID\"].tolist()\n",
    "new_names = label_csv_new[\"StudyUID\"].tolist()\n",
    "\n",
    "def check_same(name):\n",
    "    # ACL\n",
    "    label_old_ACL = label_csv_old.loc[label_csv_old['StudyUID'] == old_name, \"ACL\"].tolist()\n",
    "    label_new_ACL = label_csv_new.loc[label_csv_new['StudyUID'] == old_name, \"ACL\"].tolist()\n",
    "\n",
    "    # Meniscus\n",
    "    label_old_Meniscus = label_csv_old.loc[label_csv_old['StudyUID'] == old_name, \"Meniscus\"].tolist()\n",
    "    label_new_Inner = label_csv_new.loc[label_csv_new['StudyUID'] == old_name, \"Inner_Meniscus\"].tolist()\n",
    "    label_new_Outer = label_csv_new.loc[label_csv_new['StudyUID'] == old_name, \"Outer_Meniscus\"].tolist()\n",
    "    if label_new_Inner == [1] or label_new_Outer == [1]:\n",
    "        label_new_Meniscus = [1]\n",
    "    else:\n",
    "        label_new_Meniscus = [0]\n",
    "\n",
    "    if label_old_ACL == label_new_ACL and label_old_Meniscus == label_new_Meniscus:\n",
    "        return name\n",
    "    \n",
    "\n",
    "names_list = []\n",
    "for old_name in old_names:\n",
    "    if old_name in new_names:\n",
    "        name = check_same(old_name)\n",
    "        if not name == None:\n",
    "            names_list.append(name)\n",
    "\n",
    "print(f\"We still have {len(names_list)} cases can be trained\")"
   ]
  },
  {
   "cell_type": "code",
   "execution_count": 10,
   "metadata": {},
   "outputs": [],
   "source": [
    "# Make the new csv file\n",
    "new_file = []\n",
    "for name in names_list:\n",
    "    specific_row = label_csv_new.loc[label_csv_new['StudyUID'] == name]\n",
    "    new_file.append(specific_row)\n",
    "\n",
    "combined_df = pd.concat(new_file,ignore_index=True)\n",
    "combined_df.to_csv('new_grouped_whatever_new.csv',index=False)"
   ]
  },
  {
   "cell_type": "code",
   "execution_count": 12,
   "metadata": {},
   "outputs": [
    {
     "name": "stdout",
     "output_type": "stream",
     "text": [
      "There are 180 cases ACL among 3317 patients.\n",
      "There are 16 cases PCL among 3317 patients.\n",
      "There are 943 cases Inner_Meniscus among 3317 patients.\n",
      "There are 286 cases Outer_Meniscus among 3317 patients.\n"
     ]
    }
   ],
   "source": [
    "# Count how many disease cases\n",
    "new_grouped_new_csv = pd.read_csv('new_grouped_whatever_new.csv')\n",
    "\n",
    "diseases = ['ACL','PCL','Inner_Meniscus','Outer_Meniscus']\n",
    "for disease in diseases:\n",
    "    sick_num = 0\n",
    "    sick_list = new_grouped_new_csv[disease].tolist()\n",
    "    for i in sick_list:\n",
    "        if str(i) == '1':\n",
    "            sick_num += 1\n",
    "    print(f\"There are {sick_num} cases {disease} among {len(sick_list)} patients.\")\n"
   ]
  },
  {
   "cell_type": "code",
   "execution_count": 15,
   "metadata": {},
   "outputs": [
    {
     "name": "stdout",
     "output_type": "stream",
     "text": [
      "There are 218 cases ACL among 3511 patients.\n",
      "There are 17 cases PCL among 3511 patients.\n",
      "There are 1015 cases Inner_Meniscus among 3511 patients.\n",
      "There are 309 cases Outer_Meniscus among 3511 patients.\n"
     ]
    }
   ],
   "source": [
    "# Count how many disease cases\n",
    "label_csv_new = pd.read_csv(\"./new_grouped_whatever.csv\")\n",
    "\n",
    "diseases = ['ACL','PCL','Inner_Meniscus','Outer_Meniscus']\n",
    "for disease in diseases:\n",
    "    sick_num = 0\n",
    "    sick_list = label_csv_new[disease].tolist()\n",
    "    for i in sick_list:\n",
    "        if str(i) == '1':\n",
    "            sick_num += 1\n",
    "    print(f\"There are {sick_num} cases {disease} among {len(sick_list)} patients.\")"
   ]
  },
  {
   "cell_type": "code",
   "execution_count": 2,
   "metadata": {},
   "outputs": [],
   "source": [
    "import pandas as pd\n",
    "\n",
    "diseases_group = ['ACL','PCL','Inner_Meniscus','Outer_Meniscus']\n",
    "\n",
    "sorted_csv = pd.read_csv(\"./ACL_Meniscus_ProjectName.csv\")\n",
    "disease_names = sorted_csv.columns.tolist()[2:]\n",
    "case_names = sorted_csv['StudyUID'].tolist()\n",
    "projectNames = sorted_csv['projectName'].tolist()\n",
    "\n",
    "def grouped_list(group_name):\n",
    "    list = []\n",
    "    for i, name in enumerate(case_names):\n",
    "        num = 0\n",
    "        for disease_name in disease_names:\n",
    "            if group_name in disease_name:\n",
    "                if not sorted_csv.loc[(sorted_csv['StudyUID'] == name)&(sorted_csv['projectName'] == projectNames[i]),disease_name].isna().all():\n",
    "                    num += 1\n",
    "        if num != 0:\n",
    "            num = 1\n",
    "        list.append(num)\n",
    "    return list\n",
    "\n",
    "dictionary = {}\n",
    "dictionary['StudyUID'] = case_names\n",
    "dictionary['projectName'] = projectNames\n",
    "for group_name in diseases_group:\n",
    "    dictionary[group_name] = grouped_list(group_name)\n",
    "\n",
    "# df = pd.DataFrame(dictionary)\n",
    "# data_dir = f\"./ACL_Meniscus_ProjectName_grouped.csv\"\n",
    "# df.to_csv(data_dir,index=False)"
   ]
  },
  {
   "cell_type": "code",
   "execution_count": 20,
   "metadata": {},
   "outputs": [
    {
     "name": "stdout",
     "output_type": "stream",
     "text": [
      "3511\n"
     ]
    }
   ],
   "source": [
    "import numpy as np\n",
    "import json\n",
    "\n",
    "json_dir = \"./pretty.json\"\n",
    "with open(json_dir,'r') as data_file:\n",
    "    datas = json.load(data_file)\n",
    "\n",
    "case_names = np.unique(np.array(case_names)).tolist()\n",
    "print(len(case_names))\n",
    "grouped_csv = pd.read_csv(\"./ACL_Meniscus_ProjectName_grouped.csv\")\n",
    "diseases_group = ['ACL','PCL','Inner_Meniscus','Outer_Meniscus']\n",
    "\n",
    "def disease_detect(disease_num_list):\n",
    "    disease_list = []\n",
    "    for i,disease_num in enumerate(disease_num_list):\n",
    "        if str(disease_num) == \"1\":\n",
    "            disease_list.append(diseases_group[i])\n",
    "    return disease_list\n",
    "\n",
    "def patientID(name):\n",
    "    for case in datas:\n",
    "        StudyUID = case['studyInstanceUID']   \n",
    "        if str(StudyUID) == str(name):\n",
    "            for disease in case['finalAnnotation']['elements']:\n",
    "                if disease['3d'] != []:\n",
    "                    for location in disease['3d']:\n",
    "                        PatientID = location[\"PatientID\"]\n",
    "                        if PatientID is not None:\n",
    "                            break\n",
    "                    break\n",
    "        \n",
    "    return PatientID\n",
    "\n",
    "wrong_cases = []\n",
    "for name in case_names:\n",
    "    dictionary_1 = {}\n",
    "    dictionary_2 = {}\n",
    "    row = grouped_csv.loc[grouped_csv['StudyUID'] == name]\n",
    "    row_list = row.values.tolist()\n",
    "    if len(row_list) == 2:\n",
    "        if row_list[0][2:] != row_list[1][2:]:\n",
    "            dictionary_1[\"StudyUID\"] = row_list[0][0]\n",
    "            dictionary_1['AccesionNumber'] = patientID(row_list[0][0])\n",
    "            dictionary_1['projectName'] = row_list[0][1]\n",
    "            diseases_1 = row_list[0][2:]\n",
    "            dictionary_1['diseases'] = disease_detect(diseases_1)\n",
    "            wrong_cases.append(dictionary_1)\n",
    "\n",
    "            dictionary_2['projectName'] = row_list[1][1]\n",
    "            diseases_2 = row_list[1][2:]\n",
    "            dictionary_2['diseases'] = disease_detect(diseases_2)\n",
    "            wrong_cases.append(dictionary_2)\n",
    "\n",
    "    elif len(row_list) >2:\n",
    "        print(\"Error!\")\n",
    "\n",
    "    \n",
    "\n",
    "# Convert the list of dictionaries to a Pandas DataFrame\n",
    "df = pd.DataFrame(wrong_cases)\n",
    "\n",
    "# If index is not specified in the DataFrame, set it to None\n",
    "if df.index.name is None:\n",
    "    df.index.name = ''\n",
    "\n",
    "# Write the DataFrame to a CSV file\n",
    "df.to_csv('ProjectName_conflicts.csv', index=False)"
   ]
  },
  {
   "cell_type": "code",
   "execution_count": 19,
   "metadata": {},
   "outputs": [
    {
     "name": "stderr",
     "output_type": "stream",
     "text": [
      "/tmp/ipykernel_2385568/2334512415.py:7: FutureWarning: save is not part of the public API, usage can give unexpected results and will be removed in a future version\n",
      "  resultExcelFile.save()\n"
     ]
    }
   ],
   "source": [
    "import pandas as pd\n",
    "\n",
    "cvsDataframe = pd.read_csv('ProjectName_conflicts.csv')\n",
    "resultExcelFile = pd.ExcelWriter('ProjectName_conflicts.xlsx')\n",
    "cvsDataframe.to_excel(resultExcelFile, index=False)\n",
    "\n",
    "resultExcelFile.save()"
   ]
  },
  {
   "attachments": {},
   "cell_type": "markdown",
   "metadata": {},
   "source": [
    "## Create a new ACL coordinates label"
   ]
  },
  {
   "cell_type": "code",
   "execution_count": 17,
   "metadata": {},
   "outputs": [],
   "source": [
    "import pandas as pd\n",
    "\n",
    "ACL_list = [\"ACL_Vord. Kreuzband-Konturunterbrechung\",\"ACL_Vord. Kreuzband-Resorption\",\"ACL_Vord. Kreuzband-Faserunterbrechung\"]\n",
    "location_new_csv = pd.read_csv(\"./whatever.csv\")\n",
    "case_names = location_new_csv[\"StudyUID\"].tolist()\n",
    "\n",
    "acl = []\n",
    "\n",
    "for name in case_names:\n",
    "    dictionary_acl = {}\n",
    "    for disease in ACL_list:\n",
    "        coordinate = location_new_csv.loc[location_new_csv['StudyUID'] == name, disease].tolist()\n",
    "        if isinstance(coordinate[0], str):\n",
    "            break\n",
    "    if isinstance(coordinate[0], str):\n",
    "        dictionary_acl[\"StudyUID\"] = name\n",
    "        dictionary_acl[\"ACL\"] = coordinate[0]\n",
    "        acl.append(dictionary_acl)\n",
    "    else:\n",
    "        continue\n",
    "\n",
    "# Convert the list of dictionaries to a Pandas DataFrame\n",
    "df = pd.DataFrame(acl)\n",
    "\n",
    "# If index is not specified in the DataFrame, set it to None\n",
    "if df.index.name is None:\n",
    "    df.index.name = ''\n",
    "\n",
    "# Write the DataFrame to a CSV file\n",
    "df.to_csv('ACL.csv', index=False)"
   ]
  }
 ],
 "metadata": {
  "kernelspec": {
   "display_name": "base",
   "language": "python",
   "name": "python3"
  },
  "language_info": {
   "codemirror_mode": {
    "name": "ipython",
    "version": 3
   },
   "file_extension": ".py",
   "mimetype": "text/x-python",
   "name": "python",
   "nbconvert_exporter": "python",
   "pygments_lexer": "ipython3",
   "version": "3.9.15"
  },
  "orig_nbformat": 4
 },
 "nbformat": 4,
 "nbformat_minor": 2
}
